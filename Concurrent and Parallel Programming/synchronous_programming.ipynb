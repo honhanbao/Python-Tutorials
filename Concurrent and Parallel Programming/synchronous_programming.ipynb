{
 "cells": [
  {
   "cell_type": "code",
   "execution_count": null,
   "metadata": {},
   "outputs": [],
   "source": []
  },
  {
   "cell_type": "markdown",
   "metadata": {},
   "source": [
    "# Synchronous Programming"
   ]
  },
  {
   "cell_type": "markdown",
   "metadata": {},
   "source": [
    "Synchronous programming is another approach within concurrent programming where tasks are executed one after the other in a sequential manner. Each task must complete before the next task begins. This can lead to inefficiencies when dealing with tasks that involve waiting"
   ]
  },
  {
   "cell_type": "code",
   "execution_count": 1,
   "metadata": {},
   "outputs": [
    {
     "name": "stdout",
     "output_type": "stream",
     "text": [
      "Task 1: 0\n",
      "Task 1: 1\n",
      "Task 1: 2\n",
      "Task 1: 3\n",
      "Task 1: 4\n",
      "Task 2: 0\n",
      "Task 2: 1\n",
      "Task 2: 2\n",
      "Task 2: 3\n",
      "Task 2: 4\n",
      "Both tasks have completed.\n"
     ]
    }
   ],
   "source": [
    "import time\n",
    "\n",
    "def task1():\n",
    "    for i in range(5):\n",
    "        print(\"Task 1:\", i)\n",
    "        time.sleep(1)  # Simulate some work\n",
    "\n",
    "def task2():\n",
    "    for i in range(5):\n",
    "        print(\"Task 2:\", i)\n",
    "        time.sleep(1)  # Simulate some work\n",
    "\n",
    "# Perform task 1\n",
    "task1()\n",
    "\n",
    "# Perform task 2 after task 1 completes\n",
    "task2()\n",
    "\n",
    "print(\"Both tasks have completed.\")"
   ]
  },
  {
   "cell_type": "markdown",
   "metadata": {},
   "source": []
  }
 ],
 "metadata": {
  "kernelspec": {
   "display_name": "Python 3",
   "language": "python",
   "name": "python3"
  },
  "language_info": {
   "codemirror_mode": {
    "name": "ipython",
    "version": 3
   },
   "file_extension": ".py",
   "mimetype": "text/x-python",
   "name": "python",
   "nbconvert_exporter": "python",
   "pygments_lexer": "ipython3",
   "version": "3.9.13"
  },
  "orig_nbformat": 4
 },
 "nbformat": 4,
 "nbformat_minor": 2
}
