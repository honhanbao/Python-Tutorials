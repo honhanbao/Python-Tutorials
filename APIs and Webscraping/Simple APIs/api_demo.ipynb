{
 "cells": [
  {
   "cell_type": "markdown",
   "metadata": {},
   "source": []
  },
  {
   "cell_type": "markdown",
   "metadata": {},
   "source": [
    "# APIs\n",
    "- We demonstrate two examples using APIs to request and store data"
   ]
  },
  {
   "cell_type": "code",
   "execution_count": 1,
   "metadata": {},
   "outputs": [],
   "source": [
    "import requests"
   ]
  },
  {
   "cell_type": "markdown",
   "metadata": {},
   "source": [
    "## 1 - Random users data\n",
    "- Description: We will read data of random users and write to a "
   ]
  },
  {
   "cell_type": "code",
   "execution_count": 2,
   "metadata": {},
   "outputs": [
    {
     "name": "stdout",
     "output_type": "stream",
     "text": [
      "Name: Theodore Smith\n",
      "Gender: male\n",
      "Email: theodore.smith@example.com\n",
      "Location: 7992 Elliot Street, Invercargill, Taranaki, New Zealand 69329\n",
      "Name: Jill Lawson\n",
      "Gender: female\n",
      "Email: jill.lawson@example.com\n",
      "Location: 9348 Mockingbird Ln, Frederick, Utah, United States 59495\n",
      "Name: Adem Aclan\n",
      "Gender: male\n",
      "Email: adem.aclan@example.com\n",
      "Location: 4228 Filistin Cd, Yozgat, Aksaray, Turkey 50564\n",
      "Name: Iris Colin\n",
      "Gender: female\n",
      "Email: iris.colin@example.com\n",
      "Location: 4989 Rue Pasteur, Astano, Obwalden, Switzerland 1177\n",
      "Name: Elliot Lavigne\n",
      "Gender: male\n",
      "Email: elliot.lavigne@example.com\n",
      "Location: 3783 Duke St, Shelbourne, Yukon, Canada W0L 1F6\n"
     ]
    }
   ],
   "source": [
    "# Define the API URL to fetch random user data\n",
    "url = \"https://randomuser.me/api/?results=5\"\n",
    "\n",
    "# Send an HTTP GET request to the API\n",
    "response = requests.get(url)\n",
    "\n",
    "# Check if the request was successful (status code 200)\n",
    "if response.status_code == 200:\n",
    "    # Parse the JSON response\n",
    "    user_data = response.json()\n",
    "\n",
    "    # Print information about random users\n",
    "    for user in user_data[\"results\"]:\n",
    "        # print(user.keys())\n",
    "        print(\"Name:\", user[\"name\"][\"first\"], user[\"name\"][\"last\"])\n",
    "        print(\"Gender:\", user[\"gender\"])\n",
    "        print(\"Email:\", user[\"email\"])\n",
    "        space = \" \"\n",
    "        comma = \",\"\n",
    "        user_address = (\n",
    "            str(user[\"location\"][\"street\"][\"number\"]) + space + \n",
    "            user[\"location\"][\"street\"][\"name\"] + comma + space + \n",
    "            user[\"location\"][\"city\"] + comma + space + \n",
    "            user[\"location\"][\"state\"] + comma + space + \n",
    "            user[\"location\"][\"country\"] + space + \n",
    "            str(user[\"location\"][\"postcode\"])\n",
    "        )\n",
    "        print(\"Location:\", user_address)\n",
    "else:\n",
    "    print(\"Request failed with status code:\", response.status_code)\n",
    "\n",
    "\n"
   ]
  },
  {
   "cell_type": "code",
   "execution_count": 9,
   "metadata": {},
   "outputs": [
    {
     "name": "stdout",
     "output_type": "stream",
     "text": [
      "Name: Dax Vermeij\n",
      "Gender: male\n",
      "Email: dax.vermeij@example.com\n",
      "Address: 3168 Fluitstraat, Eernewoude, Noord-Holland, Netherlands 8114 HG\n",
      "\n",
      "Name: Eileen Hol\n",
      "Gender: female\n",
      "Email: eileen.hol@example.com\n",
      "Address: 6522 Øvreseterveien, Fotlandsvåg, Hedmark, Norway 1624\n",
      "\n",
      "Name: Dzvenimira Trinus\n",
      "Gender: female\n",
      "Email: dzvenimira.trinus@example.com\n",
      "Address: 3004 Poznyakivskiy provulok, Rozdilna, Kiyivska, Ukraine 16096\n",
      "\n",
      "Name: Gül Nebioğlu\n",
      "Gender: female\n",
      "Email: gul.nebioglu@example.com\n",
      "Address: 3014 Kushimoto Sk, Kırklareli, Hatay, Turkey 13470\n",
      "\n",
      "Name: Oscar Smith\n",
      "Gender: male\n",
      "Email: oscar.smith@example.com\n",
      "Address: 2672 White Swan Road, Masterton, Waikato, New Zealand 28584\n",
      "\n",
      "User data written to 'data/user_data.csv'.\n"
     ]
    }
   ],
   "source": [
    "import requests\n",
    "import csv\n",
    "\n",
    "# Define the API URL to fetch random user data\n",
    "url = \"https://randomuser.me/api/?results=5\"\n",
    "\n",
    "# Send an HTTP GET request to the API\n",
    "response = requests.get(url)\n",
    "\n",
    "# Check if the request was successful (status code 200)\n",
    "if response.status_code == 200:\n",
    "    # Parse the JSON response\n",
    "    user_data = response.json()\n",
    "\n",
    "    # Specify the CSV file name\n",
    "    csv_file = \"data/user_data.csv\"\n",
    "\n",
    "    # Write user data to the CSV file\n",
    "    with open(csv_file, mode=\"w\", newline=\"\", encoding=\"utf-8\") as file:\n",
    "        csv_writer = csv.writer(file)\n",
    "\n",
    "        # Write header row\n",
    "        csv_writer.writerow([\"First Name\", \"Last Name\", \"Gender\", \"Email\", \"Address\"])\n",
    "\n",
    "        # Write data rows\n",
    "        for user in user_data[\"results\"]:\n",
    "            first_name = user[\"name\"][\"first\"]\n",
    "            last_name = user[\"name\"][\"last\"]\n",
    "            gender = user[\"gender\"]\n",
    "            email = user[\"email\"]\n",
    "            address = (\n",
    "                str(user[\"location\"][\"street\"][\"number\"]) + \" \" +\n",
    "                user[\"location\"][\"street\"][\"name\"] + \", \" +\n",
    "                user[\"location\"][\"city\"] + \", \" +\n",
    "                user[\"location\"][\"state\"] + \", \" +\n",
    "                user[\"location\"][\"country\"] + \" \" +\n",
    "                str(user[\"location\"][\"postcode\"])\n",
    "            )\n",
    "            # Write \n",
    "            csv_writer.writerow([first_name, last_name, gender, email, address])\n",
    "\n",
    "            # Print to console\n",
    "            print(f\"Name: {first_name} {last_name}\")\n",
    "            print(f\"Gender: {gender}\")\n",
    "            print(f\"Email: {email}\")\n",
    "            print(f\"Address: {address}\\n\")\n",
    "\n",
    "    print(f\"User data written to '{csv_file}'.\")\n",
    "else:\n",
    "    print(\"Request failed with status code:\", response.status_code)\n"
   ]
  },
  {
   "cell_type": "markdown",
   "metadata": {},
   "source": [
    "### News titles from home page\n",
    "- We will read titles from a home page of a newspaper and write data to a txt file"
   ]
  },
  {
   "cell_type": "markdown",
   "metadata": {},
   "source": []
  },
  {
   "cell_type": "code",
   "execution_count": 4,
   "metadata": {},
   "outputs": [
    {
     "name": "stdout",
     "output_type": "stream",
     "text": [
      "1. Forty-one migrants die in shipwreck off Italy\n",
      "2. Forty-one migrants die in shipwreck off Italy\n",
      "3. Why falling prices in China raise concerns\n",
      "4. Amazon deal lacks concrete measures, say activists\n",
      "5. Why the World Scout Jamboree in S Korea fell apart\n",
      "6. Ancient lizard-like species discovered in Australia\n",
      "7. Rahul Gandhi blames India PM Modi for Manipur crisis\n",
      "8. Miss Universe Indonesia contestants allege sexual abuse\n",
      "9. Royal prodigal son's return stirs up Thailand\n",
      "10. Is bulldozer punishment trampling justice in India?\n",
      "11. WeWork warns of 'substantial doubt' over its future\n",
      "12. Ohio vote win for abortion-rights supporters\n",
      "13. WeWork warns of 'substantial doubt' over its future\n",
      "14. Ohio vote win for abortion-rights supporters\n",
      "15. Is India stifling criticism by retired bureaucrats?\n",
      "16. Nine bodies found after fire at France holiday home\n",
      "17. Fewer than 5,000 steps a day enough to boost health\n",
      "18. France end Morocco dream to cruise into quarters\n",
      "19. Colombia set up England match by beating Jamaica\n",
      "20. England's James apologises for World Cup red card\n",
      "21. Flares and soaring 'Aussie confidence' as Kerr returns\n",
      "22. What do you know about past 24 hours at World Cup?\n",
      "23. The Brisbane duo making classical music accessible\n",
      "24. BBC World News TV\n",
      "25. BBC World Service Radio\n",
      "26. Fiery ‘meteor’ over Australia probably Russian space rocket\n",
      "27. The record summer that scorched Asia\n",
      "28. US driver crashes car into second floor\n",
      "29. In Pictures: Sinéad O'Connor's funeral\n",
      "30. Motorcyclist captured driving through powerful storm\n",
      "31. Fatal family lunch mystery grips Australia\n",
      "32. Which criminal case may be hardest for Trump to win?\n",
      "33. Are Wagner mercenaries operating in Niger?\n",
      "34. Common personal law proposal sparks fear in Indian tribes\n",
      "35. ‘The first thing people noticed was my cancer'\n",
      "36. I wasn't told about side-effects of antidepressants\n",
      "37. ‘Could abortion bans put my IVF at risk?’\n",
      "38. The atomic 'bomb spike' in your body\n",
      "39. Should you ditch a bad job in a week?\n",
      "40. The world's largest landlocked country\n",
      "41. Literature's most misunderstood icon?\n",
      "42. The diseases that have no name\n",
      "43. The workers getting multiple bonuses\n",
      "44. Japan's innovative cooling solutions\n"
     ]
    }
   ],
   "source": [
    "import requests\n",
    "from bs4 import BeautifulSoup\n",
    "\n",
    "# URL of the BBC News website\n",
    "url = \"https://www.bbc.com/news\"\n",
    "\n",
    "# Send an HTTP GET request to the website\n",
    "response = requests.get(url)\n",
    "\n",
    "# Parse the HTML content using BeautifulSoup\n",
    "soup = BeautifulSoup(response.content, \"html.parser\")\n",
    "\n",
    "# Find all the news article titles using appropriate tags and class names\n",
    "article_titles = soup.find_all(\"h3\", class_=\"gs-c-promo-heading__title\")\n",
    "\n",
    "# print(article_titles)\n",
    "\n",
    "# Create or open a file for writing\n",
    "file_name = \"data/news_titles.txt\"\n",
    "with open(file_name, \"w\", encoding=\"utf-8\") as file:\n",
    "    # Write the titles of the top news articles to the file\n",
    "    for index, title in enumerate(article_titles, start=1):\n",
    "        # Extract the text content of each title using get_text()\n",
    "        title_text = title.get_text(strip=True)\n",
    "        file.write(f\"{index}. {title_text}\\n\")\n",
    "        # Print to the console\n",
    "        print(f\"{index}. {title_text}\")\n"
   ]
  },
  {
   "cell_type": "code",
   "execution_count": null,
   "metadata": {},
   "outputs": [],
   "source": [
    "print(2)"
   ]
  },
  {
   "cell_type": "code",
   "execution_count": null,
   "metadata": {},
   "outputs": [],
   "source": []
  }
 ],
 "metadata": {
  "kernelspec": {
   "display_name": "base",
   "language": "python",
   "name": "python3"
  },
  "language_info": {
   "codemirror_mode": {
    "name": "ipython",
    "version": 3
   },
   "file_extension": ".py",
   "mimetype": "text/x-python",
   "name": "python",
   "nbconvert_exporter": "python",
   "pygments_lexer": "ipython3",
   "version": "3.10.9"
  },
  "orig_nbformat": 4
 },
 "nbformat": 4,
 "nbformat_minor": 2
}
