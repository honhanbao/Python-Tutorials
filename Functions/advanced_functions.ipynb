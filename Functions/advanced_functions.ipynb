{
 "cells": [
  {
   "cell_type": "markdown",
   "metadata": {},
   "source": [
    "# Functions"
   ]
  },
  {
   "cell_type": "markdown",
   "metadata": {},
   "source": [
    "## Closures\n",
    "- Occur when a nested function references variables from its containing (enclosing) function's scope,\n",
    "  even after the outer function has finished executing.\n",
    "  This allows you to create functions that \"remember\" their context.\n",
    "- Often used in decorators and when we want to encapsulate behavior."
   ]
  },
  {
   "cell_type": "code",
   "execution_count": null,
   "metadata": {},
   "outputs": [],
   "source": [
    "# Closure function\n",
    "def outer_function(x):\n",
    "    def inner_function(y):\n",
    "        return x + y\n",
    "    return inner_function\n",
    "\n",
    "closure = outer_function(10)\n",
    "print(closure)\n",
    "result = closure(5)  # Remembers x from the outer function\n",
    "print(result)"
   ]
  },
  {
   "cell_type": "markdown",
   "metadata": {},
   "source": [
    "## Decorators\n",
    "- Functions that modify the behavior of other functions. \n",
    "  They provide a clean and efficient way to add functionality to existing functions without modifying their code. \n",
    "- Common use cases include logging, authentication, and memoization."
   ]
  },
  {
   "cell_type": "markdown",
   "metadata": {},
   "source": []
  },
  {
   "cell_type": "code",
   "execution_count": null,
   "metadata": {},
   "outputs": [],
   "source": [
    "# Decorator function\n",
    "def simple_decorator(func):\n",
    "    def wrapper():\n",
    "        print(\"Before function call\")\n",
    "        func()\n",
    "        print(\"After function call\")\n",
    "    return wrapper\n",
    "# Applying the decorator\n",
    "@simple_decorator\n",
    "def say_hello():\n",
    "    print(\"Hello, world!\")\n",
    "\n",
    "say_hello()"
   ]
  },
  {
   "cell_type": "markdown",
   "metadata": {},
   "source": [
    "## Decorators with Arguments: \n",
    "- Advanced decorators can take arguments, allowing us to create more flexible and customizable decorators. \n",
    "- This involves creating a series of nested functions to handle the various levels of parameter passing."
   ]
  },
  {
   "cell_type": "code",
   "execution_count": null,
   "metadata": {},
   "outputs": [],
   "source": [
    "# Decorator function that takes an argument\n",
    "def repeat(n):\n",
    "    def decorator(func):\n",
    "        def wrapper(*args, **kwargs):\n",
    "            for _ in range(n):\n",
    "                result = func(*args, **kwargs)\n",
    "            return result\n",
    "        return wrapper\n",
    "    return decorator\n",
    "\n",
    "# Applying the decorator with an argument\n",
    "@repeat(n=3)\n",
    "def say_hello(name):\n",
    "    print(f\"Hello, {name}!\")\n",
    "\n",
    "# Calling the decorated function\n",
    "say_hello(\"Alice\")"
   ]
  },
  {
   "cell_type": "markdown",
   "metadata": {},
   "source": [
    "## Generator Functions: \n",
    "- Generator functions use the yield keyword to produce a series of values on-the-fly, one at a time, instead of generating a complete list or sequence in memory. \n",
    "- This is especially useful for dealing with large datasets or infinite sequences."
   ]
  },
  {
   "cell_type": "code",
   "execution_count": null,
   "metadata": {},
   "outputs": [],
   "source": [
    "# Generator Functions:\n",
    "def fibonacci_generator():\n",
    "    a, b = 0, 1\n",
    "    while True:\n",
    "        yield a\n",
    "        a, b = b, a + b\n",
    "\n",
    "fib = fibonacci_generator()\n",
    "for _ in range(10):\n",
    "    print(next(fib))"
   ]
  },
  {
   "cell_type": "markdown",
   "metadata": {},
   "source": [
    "## Partial Functions: \n",
    "- Partial functions are created by fixing a certain number of arguments of a function and generating a new function with fewer parameters. \n",
    "- This is useful when you have a function with many arguments, and you want to create simpler versions with some parameters pre-set."
   ]
  },
  {
   "cell_type": "code",
   "execution_count": null,
   "metadata": {},
   "outputs": [],
   "source": [
    "# Partial Functions:\n",
    "import functools\n",
    "\n",
    "def power(base, exponent):\n",
    "    return base ** exponent\n",
    "\n",
    "square = functools.partial(power, exponent=2)\n",
    "cube = functools.partial(power, exponent=3)\n",
    "\n",
    "print(square(5))  # Output: 25\n",
    "print(cube(3))    # Output: 27"
   ]
  },
  {
   "cell_type": "markdown",
   "metadata": {},
   "source": [
    "## Function Factories: \n",
    "- Function factories are functions that create and return other functions. \n",
    "- They're particularly useful when you need to generate similar functions with slight variations."
   ]
  },
  {
   "cell_type": "code",
   "execution_count": null,
   "metadata": {},
   "outputs": [],
   "source": [
    "# Function factories\n",
    "def create_multiplier(factor):\n",
    "    def multiplier(x):\n",
    "        return x * factor\n",
    "    return multiplier\n",
    "\n",
    "# Create specific multiplier functions using the factory\n",
    "double = create_multiplier(2)\n",
    "triple = create_multiplier(3)\n",
    "\n",
    "# Use the generated functions\n",
    "print(double(5))        # Output: 10 (5 * 2)\n",
    "print(triple(5))        # Output: 15 (5 * 3)\n"
   ]
  },
  {
   "cell_type": "markdown",
   "metadata": {},
   "source": []
  },
  {
   "cell_type": "markdown",
   "metadata": {},
   "source": [
    "## Lambda Functions and Sorting: \n",
    "- Lambda functions can be used as key functions in sorting to customize the sorting order based on specific criteria."
   ]
  },
  {
   "cell_type": "code",
   "execution_count": null,
   "metadata": {},
   "outputs": [],
   "source": [
    "# Lambda Functions and Sorting:\n",
    "data = [(\"apple\", 3), (\"banana\", 1), (\"cherry\", 2)]\n",
    "sorted_data = sorted(data, key=lambda item: item[1])\n",
    "print(sorted_data)  # Output: [('banana', 1), ('cherry', 2), ('apple', 3)]"
   ]
  },
  {
   "cell_type": "markdown",
   "metadata": {},
   "source": [
    "## Function Annotations: \n",
    "- Python supports adding metadata annotations to function parameters and return values. \n",
    "- These annotations can be used to provide type hints or additional information about the function's purpose."
   ]
  },
  {
   "cell_type": "code",
   "execution_count": null,
   "metadata": {},
   "outputs": [],
   "source": [
    "# Function Annotations:\n",
    "def greet(name: str) -> str:\n",
    "    return f\"Hello, {name}!\"\n",
    "\n",
    "print(greet(\"Alice\"))"
   ]
  },
  {
   "cell_type": "markdown",
   "metadata": {},
   "source": [
    "## Currying: \n",
    "- Currying is a technique where a function that takes multiple arguments is transformed into a sequence of functions that each take a single argument. \n",
    "- This can be used for functional composition and creating specialized functions."
   ]
  },
  {
   "cell_type": "code",
   "execution_count": null,
   "metadata": {},
   "outputs": [],
   "source": [
    "def add(x):\n",
    "    def inner_add(y):\n",
    "        return x + y\n",
    "    return inner_add\n",
    "\n",
    "# Using curried function\n",
    "add_5 = add(5)\n",
    "add_10 = add(10)\n",
    "\n",
    "result_1 = add_5(3)     # Adds 5 + 3\n",
    "result_2 = add_10(3)    # Adds 10 + 3\n",
    "\n",
    "print(result_1)         # Output: 8\n",
    "print(result_2)         # Output: 13\n"
   ]
  },
  {
   "cell_type": "markdown",
   "metadata": {},
   "source": [
    "## : "
   ]
  }
 ],
 "metadata": {
  "kernelspec": {
   "display_name": "base",
   "language": "python",
   "name": "python3"
  },
  "language_info": {
   "name": "python",
   "version": "3.10.9"
  },
  "orig_nbformat": 4
 },
 "nbformat": 4,
 "nbformat_minor": 2
}
