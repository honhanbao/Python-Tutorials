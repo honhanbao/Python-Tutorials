{
 "cells": [
  {
   "cell_type": "markdown",
   "metadata": {},
   "source": [
    "# Functions"
   ]
  },
  {
   "cell_type": "markdown",
   "metadata": {},
   "source": [
    "## Closures\n",
    "- Occur when a nested function references variables from its containing (enclosing) function's scope,\n",
    "  even after the outer function has finished executing.\n",
    "  This allows you to create functions that \"remember\" their context.\n",
    "- Often used in decorators and when we want to encapsulate behavior."
   ]
  },
  {
   "cell_type": "code",
   "execution_count": null,
   "metadata": {},
   "outputs": [],
   "source": [
    "# Closure function\n",
    "def outer_function(x):\n",
    "    def inner_function(y):\n",
    "        return x + y\n",
    "    return inner_function\n",
    "\n",
    "closure = outer_function(10)\n",
    "print(closure)\n",
    "result = closure(5)  # Remembers x from the outer function\n",
    "print(result)"
   ]
  },
  {
   "cell_type": "markdown",
   "metadata": {},
   "source": [
    "## Unpacking Arguments\n",
    "- Ue the * and ** operators to unpack arguments from sequences or dictionaries and pass them as separate arguments to a function. \n",
    "- AKA \"argument unpacking\" and is particularly useful when you want to call a function with elements from a list, tuple, or dictionary as individual arguments"
   ]
  },
  {
   "cell_type": "markdown",
   "metadata": {},
   "source": [
    "### Positional Argument Unpacking (Unpacking with `*` ): args\n",
    "- Use the `*` operator to unpack elements from a sequence (like a list or tuple) and pass them as separate positional arguments to a function."
   ]
  },
  {
   "cell_type": "markdown",
   "metadata": {},
   "source": []
  },
  {
   "cell_type": "code",
   "execution_count": null,
   "metadata": {},
   "outputs": [],
   "source": [
    "def my_function(*args):\n",
    "    for arg in args:\n",
    "        print(arg)\n",
    "\n",
    "my_function(1, 2, 3)                # Output: 1, 2, 3"
   ]
  },
  {
   "cell_type": "markdown",
   "metadata": {},
   "source": [
    "### Keyword Argument Unpacking (Unpacking with `**` ): kwargs \n",
    "- use the `**` operator to unpack key-value pairs from a dictionary and pass them as separate keyword arguments to a function."
   ]
  },
  {
   "cell_type": "code",
   "execution_count": null,
   "metadata": {},
   "outputs": [],
   "source": [
    "def my_function(**kwargs):\n",
    "    for key, value in kwargs.items():\n",
    "        print(key, value)\n",
    "\n",
    "my_function(name=\"Alice\", age=30)   # Output: name Alice, age 30"
   ]
  },
  {
   "cell_type": "code",
   "execution_count": null,
   "metadata": {},
   "outputs": [],
   "source": [
    "def my_function(a, b, c):\n",
    "    print(a, b, c)\n",
    "\n",
    "values = [1, 2, 3]\n",
    "my_function(*values)                # Unpacks list 'values' as positional arguments\n",
    "\n",
    "person = {\"a\": 1, \"b\": 2, \"c\": 3}\n",
    "my_function(**person)               # Unpacks dictionary 'person' as keyword arguments\n"
   ]
  },
  {
   "cell_type": "markdown",
   "metadata": {},
   "source": [
    "## Decorators\n",
    "- Functions that modify the behavior of other functions. \n",
    "  They provide a clean and efficient way to add functionality to existing functions without modifying their code. \n",
    "- Common use cases include logging, authentication, and memoization."
   ]
  },
  {
   "cell_type": "markdown",
   "metadata": {},
   "source": []
  },
  {
   "cell_type": "code",
   "execution_count": null,
   "metadata": {},
   "outputs": [],
   "source": [
    "# Decorator function\n",
    "def simple_decorator(func):\n",
    "    def wrapper():\n",
    "        print(\"Before function call\")\n",
    "        func()\n",
    "        print(\"After function call\")\n",
    "    return wrapper\n",
    "# Applying the decorator\n",
    "@simple_decorator\n",
    "def say_hello():\n",
    "    print(\"Hello, world!\")\n",
    "\n",
    "say_hello()"
   ]
  },
  {
   "cell_type": "markdown",
   "metadata": {},
   "source": [
    "## Decorators with Arguments: \n",
    "- Advanced decorators can take arguments, allowing us to create more flexible and customizable decorators. \n",
    "- This involves creating a series of nested functions to handle the various levels of parameter passing."
   ]
  },
  {
   "cell_type": "code",
   "execution_count": null,
   "metadata": {},
   "outputs": [],
   "source": [
    "# Decorator function that takes an argument\n",
    "def repeat(n):\n",
    "    def decorator(func):\n",
    "        def wrapper(*args, **kwargs):\n",
    "            for _ in range(n):\n",
    "                result = func(*args, **kwargs)\n",
    "            return result\n",
    "        return wrapper\n",
    "    return decorator\n",
    "\n",
    "# Applying the decorator with an argument\n",
    "@repeat(n=3)\n",
    "def say_hello(name):\n",
    "    print(f\"Hello, {name}!\")\n",
    "\n",
    "# Calling the decorated function\n",
    "say_hello(\"Alice\")"
   ]
  },
  {
   "cell_type": "markdown",
   "metadata": {},
   "source": [
    "## Generator Functions: \n",
    "- Generator functions use the yield keyword to produce a series of values on-the-fly, one at a time, instead of generating a complete list or sequence in memory. \n",
    "- This is especially useful for dealing with large datasets or infinite sequences."
   ]
  },
  {
   "cell_type": "code",
   "execution_count": null,
   "metadata": {},
   "outputs": [],
   "source": [
    "# Generator Functions:\n",
    "def fibonacci_generator():\n",
    "    a, b = 0, 1\n",
    "    while True:\n",
    "        yield a\n",
    "        a, b = b, a + b\n",
    "\n",
    "fib = fibonacci_generator()\n",
    "for _ in range(10):\n",
    "    print(next(fib))"
   ]
  },
  {
   "cell_type": "markdown",
   "metadata": {},
   "source": [
    "## Partial Functions: \n",
    "- Partial functions are created by fixing a certain number of arguments of a function and generating a new function with fewer parameters. \n",
    "- This is useful when you have a function with many arguments, and you want to create simpler versions with some parameters pre-set."
   ]
  },
  {
   "cell_type": "code",
   "execution_count": null,
   "metadata": {},
   "outputs": [],
   "source": [
    "# Partial Functions:\n",
    "import functools\n",
    "\n",
    "def power(base, exponent):\n",
    "    return base ** exponent\n",
    "\n",
    "square = functools.partial(power, exponent=2)\n",
    "cube = functools.partial(power, exponent=3)\n",
    "\n",
    "print(square(5))  # Output: 25\n",
    "print(cube(3))    # Output: 27"
   ]
  },
  {
   "cell_type": "markdown",
   "metadata": {},
   "source": [
    "## Function Factories: \n",
    "- Function factories are functions that create and return other functions. \n",
    "- They're particularly useful when you need to generate similar functions with slight variations."
   ]
  },
  {
   "cell_type": "code",
   "execution_count": null,
   "metadata": {},
   "outputs": [],
   "source": [
    "# Function factories\n",
    "def create_multiplier(factor):\n",
    "    def multiplier(x):\n",
    "        return x * factor\n",
    "    return multiplier\n",
    "\n",
    "# Create specific multiplier functions using the factory\n",
    "double = create_multiplier(2)\n",
    "triple = create_multiplier(3)\n",
    "\n",
    "# Use the generated functions\n",
    "print(double(5))        # Output: 10 (5 * 2)\n",
    "print(triple(5))        # Output: 15 (5 * 3)\n"
   ]
  },
  {
   "cell_type": "markdown",
   "metadata": {},
   "source": []
  },
  {
   "cell_type": "markdown",
   "metadata": {},
   "source": [
    "## Function Annotations: \n",
    "- Python supports adding metadata annotations to function parameters and return values. \n",
    "- These annotations can be used to provide type hints or additional information about the function's purpose."
   ]
  },
  {
   "cell_type": "code",
   "execution_count": null,
   "metadata": {},
   "outputs": [],
   "source": [
    "# Function Annotations:\n",
    "def greet(name: str) -> str:\n",
    "    return f\"Hello, {name}!\"\n",
    "\n",
    "print(greet(\"Alice\"))"
   ]
  },
  {
   "cell_type": "markdown",
   "metadata": {},
   "source": [
    "## Currying: \n",
    "- Currying is a technique where a function that takes multiple arguments is transformed into a sequence of functions that each take a single argument. \n",
    "- This can be used for functional composition and creating specialized functions."
   ]
  },
  {
   "cell_type": "code",
   "execution_count": null,
   "metadata": {},
   "outputs": [],
   "source": [
    "def add(x):\n",
    "    def inner_add(y):\n",
    "        return x + y\n",
    "    return inner_add\n",
    "\n",
    "# Using curried function\n",
    "add_5 = add(5)\n",
    "add_10 = add(10)\n",
    "\n",
    "result_1 = add_5(3)     # Adds 5 + 3\n",
    "result_2 = add_10(3)    # Adds 10 + 3\n",
    "\n",
    "print(result_1)         # Output: 8\n",
    "print(result_2)         # Output: 13\n"
   ]
  },
  {
   "cell_type": "markdown",
   "metadata": {},
   "source": [
    "## First-Class Functions and Higher-Order Functions"
   ]
  },
  {
   "cell_type": "markdown",
   "metadata": {},
   "source": [
    "### First-Class Functions:\n",
    "\n",
    "In a programming language, functions are considered \"first-class\" if they are treated as regular values. This means you can do the following with functions:\n",
    "\n",
    "- Assign functions to variables.\n",
    "- Pass functions as arguments to other functions.\n",
    "- Return functions from other functions.\n",
    "- Store functions in data structures.\n",
    "\n",
    "Python treats functions as first-class citizens, allowing you to work with functions in a flexible and versatile manner. This feature enables you to write more modular and functional code."
   ]
  },
  {
   "cell_type": "code",
   "execution_count": null,
   "metadata": {},
   "outputs": [],
   "source": [
    "# First-Class Functions: Functions are assigned to variables\n",
    "def square(x):\n",
    "    return x * x\n",
    "\n",
    "func = square\n",
    "print(func(5))          # Output: 25\n",
    "\n",
    "# Higher-Order Function: Function that takes another function as an argument\n",
    "def apply(func, x):\n",
    "    return func(x)\n",
    "\n",
    "result = apply(square, 4)\n",
    "print(result)           # Output: 16"
   ]
  },
  {
   "cell_type": "markdown",
   "metadata": {},
   "source": [
    "### Higher-Order Functions:\n",
    "\n",
    "A higher-order function is a function that \n",
    "- takes one or more functions as arguments, \n",
    "- returns a function as a result, or both. \n",
    "\n",
    "In other words, it operates on functions, treating them as values.\n",
    "\n",
    "Higher-order functions are common in functional programming and can lead to more concise and expressive code. They promote code reusability and modularity."
   ]
  },
  {
   "cell_type": "code",
   "execution_count": null,
   "metadata": {},
   "outputs": [],
   "source": [
    "# Higher-Order Function: Function that returns another function\n",
    "def multiplier(factor):\n",
    "    def inner(x):\n",
    "        return x * factor\n",
    "    return inner\n",
    "\n",
    "double = multiplier(2)\n",
    "triple = multiplier(3)\n",
    "\n",
    "print(double(5))        # Output: 10\n",
    "print(triple(5))        # Output: 15"
   ]
  },
  {
   "cell_type": "markdown",
   "metadata": {},
   "source": [
    "## Anonymous (Lambda) Functions \n",
    "\n",
    "- A lambda function in Python is a small, anonymous (unnamed) function that can have any number of arguments, but can only have one expression. \n",
    "- Lambda functions are often used for short, simple operations where defining a separate named function is unnecessary.\n",
    "- syntax: lambda arguments: expression\n"
   ]
  },
  {
   "cell_type": "code",
   "execution_count": null,
   "metadata": {},
   "outputs": [],
   "source": [
    "# A lambda function to add two numbers\n",
    "add = lambda x, y: x + y\n",
    "print(add(3, 5))            # Output: 8\n",
    "\n",
    "# A lambda function to calculate the square of a number\n",
    "square = lambda x: x ** 2\n",
    "print(square(4))            # Output: 16\n",
    "\n",
    "# A lambda function to check if a number is even\n",
    "is_even = lambda x: x % 2 == 0\n",
    "print(is_even(7))           # Output: False\n",
    "print(is_even(10))          # Output: True\n",
    "\n",
    "# Lambda function used as an argument in the sorted() function\n",
    "points = [(3, 5), (1, 9), (8, 4)]\n",
    "sorted_points = sorted(points, key=lambda point: point[1])\n",
    "print(sorted_points)        # Output: [(3, 5), (8, 4), (1, 9)]\n",
    "\n",
    "# Lambda Functions and Sorting:\n",
    "data = [(\"apple\", 3), (\"banana\", 1), (\"cherry\", 2)]\n",
    "sorted_data = sorted(data, key=lambda item: item[1])\n",
    "print(sorted_data)          # Output: [('banana', 1), ('cherry', 2), ('apple', 3)]"
   ]
  },
  {
   "cell_type": "markdown",
   "metadata": {},
   "source": []
  },
  {
   "cell_type": "code",
   "execution_count": null,
   "metadata": {},
   "outputs": [],
   "source": []
  },
  {
   "cell_type": "markdown",
   "metadata": {},
   "source": []
  }
 ],
 "metadata": {
  "kernelspec": {
   "display_name": "base",
   "language": "python",
   "name": "python3"
  },
  "language_info": {
   "name": "python",
   "version": "3.10.9"
  },
  "orig_nbformat": 4
 },
 "nbformat": 4,
 "nbformat_minor": 2
}
