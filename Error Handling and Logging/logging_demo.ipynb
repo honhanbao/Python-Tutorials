{
 "cells": [
  {
   "cell_type": "markdown",
   "metadata": {},
   "source": [
    "# Logging"
   ]
  },
  {
   "cell_type": "code",
   "execution_count": null,
   "metadata": {},
   "outputs": [],
   "source": [
    "import logging\n",
    "print(logging.__file__)"
   ]
  },
  {
   "cell_type": "markdown",
   "metadata": {},
   "source": [
    "## Example"
   ]
  },
  {
   "cell_type": "code",
   "execution_count": null,
   "metadata": {},
   "outputs": [],
   "source": [
    "def logging_demo():\n",
    "\n",
    "    print(logging.__file__)\n",
    "    # Configure logging\n",
    "    logging.basicConfig(filename='demo.log',\n",
    "                       level=logging.DEBUG,\n",
    "                       format='%(asctime)s - %(levelname)s - %(message)s')\n",
    "\n",
    "    # Log messages of different levels\n",
    "    logging.debug('This is a debug message.')\n",
    "    logging.info('This is an info message.')\n",
    "    logging.warning('This is a warning message.')\n",
    "    logging.error('This is an error message.')\n",
    "    logging.critical('This is a critical message.')\n",
    "\n",
    "    try:\n",
    "        result = 10 / 0\n",
    "    except ZeroDivisionError:\n",
    "        # Log an exception with traceback\n",
    "        logging.exception('An error occurred:')\n",
    "\n",
    "    # Logging variable data\n",
    "    name = 'Alice'\n",
    "    age = 30\n",
    "    logging.info(f'{name} is {age} years old.')\n",
    "\n",
    "    # Closing remarks\n",
    "    logging.info('Logging demonstration completed.')"
   ]
  },
  {
   "cell_type": "code",
   "execution_count": null,
   "metadata": {},
   "outputs": [],
   "source": [
    "logging_demo()"
   ]
  },
  {
   "cell_type": "code",
   "execution_count": null,
   "metadata": {},
   "outputs": [],
   "source": []
  },
  {
   "cell_type": "markdown",
   "metadata": {},
   "source": [
    "## More example"
   ]
  },
  {
   "cell_type": "code",
   "execution_count": null,
   "metadata": {},
   "outputs": [],
   "source": [
    "class TicTacToe:\n",
    "    def __init__(self):\n",
    "        self.board = [' ' for _ in range(9)]\n",
    "        self.current_player = 'X'\n",
    "        self.game_over = False\n",
    "\n",
    "        # Setup logging\n",
    "        logging.basicConfig(filename='tic_tac_toe.log',\n",
    "                            level=logging.INFO,\n",
    "                            format='%(asctime)s - %(levelname)s - %(message)s')\n",
    "\n",
    "    def print_board(self):\n",
    "        for row in [self.board[i:i+3] for i in range(0, 9, 3)]:\n",
    "            print('| ' + ' | '.join(row) + ' |')\n",
    "            print('-' * 9)\n",
    "\n",
    "    def make_move(self, position):\n",
    "        if not self.game_over and self.board[position] == ' ':\n",
    "            self.board[position] = self.current_player\n",
    "            logging.info(f'{self.current_player} placed a {self.current_player} at position {position}')\n",
    "            self.check_winner()\n",
    "            self.current_player = 'O' if self.current_player == 'X' else 'X'\n",
    "        else:\n",
    "            logging.warning('Invalid move or game already over.')\n",
    "\n",
    "    def check_winner(self):\n",
    "        winning_combinations = [(0, 1, 2), (3, 4, 5), (6, 7, 8),\n",
    "                                (0, 3, 6), (1, 4, 7), (2, 5, 8),\n",
    "                                (0, 4, 8), (2, 4, 6)]\n",
    "\n",
    "        for a, b, c in winning_combinations:\n",
    "            if self.board[a] == self.board[b] == self.board[c] != ' ':\n",
    "                logging.info(f'{self.current_player} wins!')\n",
    "                self.game_over = True\n",
    "\n",
    "    def play(self):\n",
    "        logging.info('Starting a new game of Tic-Tac-Toe')\n",
    "        while not self.game_over:\n",
    "            self.print_board()\n",
    "            try:\n",
    "                position = int(input(f'{self.current_player}, enter position (0-8): '))\n",
    "                self.make_move(position)\n",
    "            except (ValueError, IndexError):\n",
    "                logging.error('Invalid input.')\n",
    "        self.print_board()\n",
    "        logging.info('Game over.')"
   ]
  },
  {
   "cell_type": "code",
   "execution_count": null,
   "metadata": {},
   "outputs": [],
   "source": [
    "    game = TicTacToe()\n",
    "    game.play()"
   ]
  }
 ],
 "metadata": {
  "kernelspec": {
   "display_name": "base",
   "language": "python",
   "name": "python3"
  },
  "language_info": {
   "name": "python",
   "version": "3.10.9"
  },
  "orig_nbformat": 4
 },
 "nbformat": 4,
 "nbformat_minor": 2
}
