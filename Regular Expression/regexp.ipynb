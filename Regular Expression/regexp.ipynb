{
 "cells": [
  {
   "cell_type": "code",
   "execution_count": null,
   "metadata": {},
   "outputs": [],
   "source": []
  },
  {
   "cell_type": "markdown",
   "metadata": {},
   "source": [
    "# Regular expressions\n"
   ]
  },
  {
   "cell_type": "markdown",
   "metadata": {},
   "source": [
    "## Meta-characters"
   ]
  },
  {
   "cell_type": "markdown",
   "metadata": {},
   "source": [
    "Meta-characters are special characters in regular expressions that have a specific meaning or functionality. They are used to define patterns that match specific types of characters or sequences of characters in a given text. Here are some commonly used meta-characters in regular expressions:\n",
    "\n",
    "- `.` (Dot): Matches any single character except a newline character.\n",
    "- `*` (Asterisk): Matches zero or more occurrences of the preceding character or group.\n",
    "- `+` (Plus): Matches one or more occurrences of the preceding character or group.\n",
    "- `?` (Question Mark): Matches zero or one occurrence of the preceding character or group.\n",
    "- `|` (Pipe): Acts like a logical OR, allowing you to specify alternatives.\n",
    "- `()` (Parentheses): Creates a capturing group for capturing and extracting matched text.\n",
    "- `[]` (Square Brackets): Defines a character class, allowing you to match any one of the characters specified within the brackets.\n",
    "- `[^]` (Caret Inside Square Brackets): Defines a negated character class, matching any character that is not in the specified set.\n",
    "- `\\` (Backslash): Escapes the character that follows it, allowing you to match literal instances of meta-characters.\n",
    "- `^` (Caret): Matches the beginning of a line (or the beginning of the string).\n",
    "- `$` (Dollar Sign): Matches the end of a line (or the end of the string).\n",
    "- `{}` (Curly Braces): Specifies a range of occurrences for the preceding character or group.\n",
    "- `\\b` (Word Boundary): Matches a position at a word boundary.\n",
    "- `\\d`, `\\D`: Matches a digit or a non-digit character.\n",
    "- `\\w`, `\\W`: Matches a word character (letter, digit, or underscore) or a non-word character.\n",
    "- `\\s`, `\\S`: Matches a whitespace character or a non-whitespace character.\n"
   ]
  },
  {
   "cell_type": "code",
   "execution_count": 1,
   "metadata": {},
   "outputs": [],
   "source": [
    "import re"
   ]
  },
  {
   "cell_type": "code",
   "execution_count": 21,
   "metadata": {},
   "outputs": [],
   "source": [
    "text = \"The quick brown fox jumps over the lazy dog.\""
   ]
  },
  {
   "cell_type": "code",
   "execution_count": 13,
   "metadata": {},
   "outputs": [
    {
     "name": "stdout",
     "output_type": "stream",
     "text": [
      "Using . (Dot): fox\n"
     ]
    }
   ],
   "source": [
    "# Match any single character followed by \"ox\"\n",
    "pattern_dot = r\".ox\"\n",
    "result_dot = re.search(pattern_dot, text)\n",
    "print(\"Using . (Dot):\", result_dot.group())"
   ]
  },
  {
   "cell_type": "code",
   "execution_count": 14,
   "metadata": {},
   "outputs": [
    {
     "name": "stdout",
     "output_type": "stream",
     "text": [
      "Using \\w (Word Character): fox\n"
     ]
    }
   ],
   "source": [
    "# Match any word character followed by \"ox\"\n",
    "pattern_word = r\"\\wox\"\n",
    "result_word = re.search(pattern_word, text)\n",
    "print(\"Using \\\\w (Word Character):\", result_word.group())"
   ]
  },
  {
   "cell_type": "code",
   "execution_count": 15,
   "metadata": {},
   "outputs": [
    {
     "name": "stdout",
     "output_type": "stream",
     "text": [
      "Using | (Pipe): fox\n"
     ]
    }
   ],
   "source": [
    "# Match \"fox\" or \"dog\"\n",
    "pattern_pipe = r\"fox|dog\"\n",
    "result_pipe = re.search(pattern_pipe, text)\n",
    "print(\"Using | (Pipe):\", result_pipe.group())"
   ]
  },
  {
   "cell_type": "code",
   "execution_count": 16,
   "metadata": {},
   "outputs": [
    {
     "name": "stdout",
     "output_type": "stream",
     "text": [
      "Using + (Plus): ox\n"
     ]
    }
   ],
   "source": [
    "# Match one or more \"o\" followed by \"x\"\n",
    "pattern_plus = r\"o+x\"\n",
    "result_plus = re.search(pattern_plus, text)\n",
    "print(\"Using + (Plus):\", result_plus.group())"
   ]
  },
  {
   "cell_type": "code",
   "execution_count": 17,
   "metadata": {},
   "outputs": [
    {
     "name": "stdout",
     "output_type": "stream",
     "text": [
      "Using ? (Question Mark): qu\n"
     ]
    }
   ],
   "source": [
    "# Match \"q\" followed by zero or one \"u\"\n",
    "pattern_question = r\"qu?\"\n",
    "result_question = re.search(pattern_question, text)\n",
    "print(\"Using ? (Question Mark):\", result_question.group())"
   ]
  },
  {
   "cell_type": "code",
   "execution_count": 18,
   "metadata": {},
   "outputs": [
    {
     "ename": "AttributeError",
     "evalue": "'NoneType' object has no attribute 'group'",
     "output_type": "error",
     "traceback": [
      "\u001b[1;31m---------------------------------------------------------------------------\u001b[0m",
      "\u001b[1;31mAttributeError\u001b[0m                            Traceback (most recent call last)",
      "Cell \u001b[1;32mIn[18], line 4\u001b[0m\n\u001b[0;32m      2\u001b[0m pattern_digit \u001b[39m=\u001b[39m \u001b[39mr\u001b[39m\u001b[39m\"\u001b[39m\u001b[39m\\\u001b[39m\u001b[39mdox\u001b[39m\u001b[39m\"\u001b[39m\n\u001b[0;32m      3\u001b[0m result_digit \u001b[39m=\u001b[39m re\u001b[39m.\u001b[39msearch(pattern_digit, text)\n\u001b[1;32m----> 4\u001b[0m \u001b[39mprint\u001b[39m(\u001b[39m\"\u001b[39m\u001b[39mUsing \u001b[39m\u001b[39m\\\\\u001b[39;00m\u001b[39md (Digit):\u001b[39m\u001b[39m\"\u001b[39m, result_digit\u001b[39m.\u001b[39;49mgroup())\n",
      "\u001b[1;31mAttributeError\u001b[0m: 'NoneType' object has no attribute 'group'"
     ]
    }
   ],
   "source": [
    "# Match any digit followed by \"ox\"\n",
    "pattern_digit = r\"\\dox\"\n",
    "result_digit = re.search(pattern_digit, text)\n",
    "print(\"Using \\\\d (Digit):\", result_digit.group())"
   ]
  },
  {
   "cell_type": "code",
   "execution_count": 19,
   "metadata": {},
   "outputs": [
    {
     "ename": "AttributeError",
     "evalue": "'NoneType' object has no attribute 'group'",
     "output_type": "error",
     "traceback": [
      "\u001b[1;31m---------------------------------------------------------------------------\u001b[0m",
      "\u001b[1;31mAttributeError\u001b[0m                            Traceback (most recent call last)",
      "Cell \u001b[1;32mIn[19], line 4\u001b[0m\n\u001b[0;32m      2\u001b[0m pattern_boundary \u001b[39m=\u001b[39m \u001b[39mr\u001b[39m\u001b[39m\"\u001b[39m\u001b[39m\\\u001b[39m\u001b[39mbox\u001b[39m\u001b[39m\\\u001b[39m\u001b[39mb\u001b[39m\u001b[39m\"\u001b[39m\n\u001b[0;32m      3\u001b[0m result_boundary \u001b[39m=\u001b[39m re\u001b[39m.\u001b[39msearch(pattern_boundary, text)\n\u001b[1;32m----> 4\u001b[0m \u001b[39mprint\u001b[39m(\u001b[39m\"\u001b[39m\u001b[39mUsing \u001b[39m\u001b[39m\\\\\u001b[39;00m\u001b[39mb (Word Boundary):\u001b[39m\u001b[39m\"\u001b[39m, result_boundary\u001b[39m.\u001b[39;49mgroup())\n",
      "\u001b[1;31mAttributeError\u001b[0m: 'NoneType' object has no attribute 'group'"
     ]
    }
   ],
   "source": [
    "# Match word boundaries before and after \"ox\"\n",
    "pattern_boundary = r\"\\box\\b\"\n",
    "result_boundary = re.search(pattern_boundary, text)\n",
    "print(\"Using \\\\b (Word Boundary):\", result_boundary.group())"
   ]
  },
  {
   "cell_type": "code",
   "execution_count": 20,
   "metadata": {},
   "outputs": [
    {
     "name": "stdout",
     "output_type": "stream",
     "text": [
      "Using \\s (Whitespace):  \n"
     ]
    }
   ],
   "source": [
    "# Match any whitespace character\n",
    "pattern_whitespace = r\"\\s\"\n",
    "result_whitespace = re.search(pattern_whitespace, text)\n",
    "print(\"Using \\\\s (Whitespace):\", result_whitespace.group())\n"
   ]
  },
  {
   "cell_type": "markdown",
   "metadata": {},
   "source": [
    "## Group"
   ]
  },
  {
   "cell_type": "markdown",
   "metadata": {},
   "source": [
    "Regular expression groups allow you to capture and extract specific parts of the matched text. You can define groups using parentheses () in your regular expressions."
   ]
  },
  {
   "cell_type": "code",
   "execution_count": 22,
   "metadata": {},
   "outputs": [],
   "source": [
    "import re"
   ]
  },
  {
   "cell_type": "code",
   "execution_count": 23,
   "metadata": {},
   "outputs": [],
   "source": [
    "text = \"John's email is john@example.com. Mary can be reached at mary123@gmail.com.\""
   ]
  },
  {
   "cell_type": "code",
   "execution_count": 24,
   "metadata": {},
   "outputs": [
    {
     "name": "stdout",
     "output_type": "stream",
     "text": [
      "Name: John\n",
      "Email: john@example.com\n",
      "\n"
     ]
    }
   ],
   "source": [
    "# Using groups to extract email addresses and names\n",
    "pattern = r\"([A-Za-z]+)'s email is ([A-Za-z0-9._%+-]+@[A-Za-z0-9.-]+\\.[A-Z|a-z]{2,})\"\n",
    "matches = re.findall(pattern, text)\n",
    "\n",
    "for match in matches:\n",
    "    name, email = match\n",
    "    print(\"Name:\", name)\n",
    "    print(\"Email:\", email)\n",
    "    print()"
   ]
  },
  {
   "cell_type": "markdown",
   "metadata": {},
   "source": [
    "## Lookarounds"
   ]
  },
  {
   "cell_type": "markdown",
   "metadata": {},
   "source": [
    "Lookarounds in regular expressions are special constructs that allow you to define conditions that must be met before or after a match, without including the matched text in the final result. Lookarounds are non-capturing groups, meaning they don't capture and include the matched text in the result. They are useful for specifying contextual constraints for your matches."
   ]
  },
  {
   "cell_type": "markdown",
   "metadata": {},
   "source": [
    "There are four types of lookarounds:\n",
    "\n",
    "- Positive Lookahead (?=...): Asserts that a certain pattern must appear after the main pattern. It doesn't consume any characters.\n",
    "- Negative Lookahead (?!...): Asserts that a certain pattern must not appear after the main pattern.\n",
    "- Positive Lookbehind (?<=...): Asserts that a certain pattern must appear before the main pattern.\n",
    "- Negative Lookbehind (?<!...): Asserts that a certain pattern must not appear before the main pattern."
   ]
  },
  {
   "cell_type": "code",
   "execution_count": 25,
   "metadata": {},
   "outputs": [],
   "source": [
    "import re"
   ]
  },
  {
   "cell_type": "code",
   "execution_count": 26,
   "metadata": {},
   "outputs": [],
   "source": [
    "text = \"I like Python and Java programming languages.\""
   ]
  },
  {
   "cell_type": "code",
   "execution_count": 27,
   "metadata": {},
   "outputs": [
    {
     "name": "stdout",
     "output_type": "stream",
     "text": [
      "Positive Lookahead: Python\n"
     ]
    }
   ],
   "source": [
    "# Positive lookahead to find \"Python\" followed by \"Java\"\n",
    "pattern_positive_lookahead = r\"Python(?=.*Java)\"\n",
    "result_positive_lookahead = re.search(pattern_positive_lookahead, text)\n",
    "print(\"Positive Lookahead:\", result_positive_lookahead.group())"
   ]
  },
  {
   "cell_type": "code",
   "execution_count": 28,
   "metadata": {},
   "outputs": [
    {
     "name": "stdout",
     "output_type": "stream",
     "text": [
      "Negative Lookahead: Python\n"
     ]
    }
   ],
   "source": [
    "# Negative lookahead to find \"Python\" not followed by \"C++\"\n",
    "pattern_negative_lookahead = r\"Python(?!.*C\\+\\+)\"\n",
    "result_negative_lookahead = re.search(pattern_negative_lookahead, text)\n",
    "print(\"Negative Lookahead:\", result_negative_lookahead.group())"
   ]
  },
  {
   "cell_type": "code",
   "execution_count": 29,
   "metadata": {},
   "outputs": [
    {
     "ename": "AttributeError",
     "evalue": "'NoneType' object has no attribute 'group'",
     "output_type": "error",
     "traceback": [
      "\u001b[1;31m---------------------------------------------------------------------------\u001b[0m",
      "\u001b[1;31mAttributeError\u001b[0m                            Traceback (most recent call last)",
      "Cell \u001b[1;32mIn[29], line 4\u001b[0m\n\u001b[0;32m      2\u001b[0m pattern_positive_lookbehind \u001b[39m=\u001b[39m \u001b[39mr\u001b[39m\u001b[39m\"\u001b[39m\u001b[39m(?<=Python )Java\u001b[39m\u001b[39m\"\u001b[39m\n\u001b[0;32m      3\u001b[0m result_positive_lookbehind \u001b[39m=\u001b[39m re\u001b[39m.\u001b[39msearch(pattern_positive_lookbehind, text)\n\u001b[1;32m----> 4\u001b[0m \u001b[39mprint\u001b[39m(\u001b[39m\"\u001b[39m\u001b[39mPositive Lookbehind:\u001b[39m\u001b[39m\"\u001b[39m, result_positive_lookbehind\u001b[39m.\u001b[39;49mgroup())\n",
      "\u001b[1;31mAttributeError\u001b[0m: 'NoneType' object has no attribute 'group'"
     ]
    }
   ],
   "source": [
    "# Positive lookbehind to find \"Java\" preceded by \"Python\"\n",
    "pattern_positive_lookbehind = r\"(?<=Python )Java\"\n",
    "result_positive_lookbehind = re.search(pattern_positive_lookbehind, text)\n",
    "print(\"Positive Lookbehind:\", result_positive_lookbehind.group())"
   ]
  },
  {
   "cell_type": "code",
   "execution_count": 30,
   "metadata": {},
   "outputs": [
    {
     "name": "stdout",
     "output_type": "stream",
     "text": [
      "Negative Lookbehind: Java\n"
     ]
    }
   ],
   "source": [
    "# Negative lookbehind to find \"Java\" not preceded by \"Python\"\n",
    "pattern_negative_lookbehind = r\"(?<!Python )Java\"\n",
    "result_negative_lookbehind = re.search(pattern_negative_lookbehind, text)\n",
    "print(\"Negative Lookbehind:\", result_negative_lookbehind.group())"
   ]
  },
  {
   "cell_type": "code",
   "execution_count": null,
   "metadata": {},
   "outputs": [],
   "source": []
  },
  {
   "cell_type": "markdown",
   "metadata": {},
   "source": [
    "## Greedy and non-greedy"
   ]
  },
  {
   "cell_type": "markdown",
   "metadata": {},
   "source": [
    "Greedy and non-greedy (also known as lazy or reluctant) matching are concepts in regular expressions that determine how the engine matches patterns with multiple occurrences."
   ]
  },
  {
   "cell_type": "markdown",
   "metadata": {},
   "source": [
    "### Greedy Matching:\n",
    "In greedy matching, the regular expression engine tries to match as much as possible while still satisfying the pattern. It matches the longest possible substring that fits the pattern."
   ]
  },
  {
   "cell_type": "code",
   "execution_count": 31,
   "metadata": {},
   "outputs": [
    {
     "name": "stdout",
     "output_type": "stream",
     "text": [
      "Greedy Matching: <div>sample</div> text with <div>multiple</div>\n"
     ]
    }
   ],
   "source": [
    "import re\n",
    "\n",
    "text = \"This is a <div>sample</div> text with <div>multiple</div> div tags.\"\n",
    "pattern_greedy = r\"<div>.*</div>\"\n",
    "result_greedy = re.search(pattern_greedy, text)\n",
    "print(\"Greedy Matching:\", result_greedy.group())\n"
   ]
  },
  {
   "cell_type": "markdown",
   "metadata": {},
   "source": [
    "### Non-Greedy (Lazy) Matching:\n",
    "In non-greedy matching, the regular expression engine tries to match as little as possible while still satisfying the pattern. It matches the shortest possible substring that fits the pattern."
   ]
  },
  {
   "cell_type": "code",
   "execution_count": 33,
   "metadata": {},
   "outputs": [
    {
     "name": "stdout",
     "output_type": "stream",
     "text": [
      "Non-Greedy (Lazy) Matching: <div>sample</div>\n"
     ]
    }
   ],
   "source": [
    "import re\n",
    "\n",
    "text = \"This is a <div>sample</div> text with <div>multiple</div> div tags.\"\n",
    "pattern_non_greedy = r\"<div>.*?</div>\"\n",
    "result_non_greedy = re.search(pattern_non_greedy, text)\n",
    "print(\"Non-Greedy (Lazy) Matching:\", result_non_greedy.group())\n"
   ]
  },
  {
   "cell_type": "markdown",
   "metadata": {},
   "source": []
  }
 ],
 "metadata": {
  "kernelspec": {
   "display_name": "Python 3",
   "language": "python",
   "name": "python3"
  },
  "language_info": {
   "codemirror_mode": {
    "name": "ipython",
    "version": 3
   },
   "file_extension": ".py",
   "mimetype": "text/x-python",
   "name": "python",
   "nbconvert_exporter": "python",
   "pygments_lexer": "ipython3",
   "version": "3.9.13"
  },
  "orig_nbformat": 4
 },
 "nbformat": 4,
 "nbformat_minor": 2
}
